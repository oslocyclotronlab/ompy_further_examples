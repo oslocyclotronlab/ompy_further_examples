version https://git-lfs.github.com/spec/v1
oid sha256:75eef7a8dd35961dd166f7109d1345889cf6f48f5dc67230728f3cdeed3ce46c
size 1297668
