{
 "cells": [
  {
   "cell_type": "markdown",
   "metadata": {},
   "source": [
    "# Testing unfolding -- folded raw spectra of 164Dy\n",
    "Procedure:\n",
    "- Act as if the unfolded spectrum was the raw spectrum of 162Dy [sic, but next lines].\n",
    "- Generate the apparent raw spectrum by folding the unfolded spectrum\n",
    "- Unfold the apparent raw spectrum and compare to the unfolded (/\"true\") spectrum \n",
    "- Check effect of efficiency normalization"
   ]
  },
  {
   "cell_type": "code",
   "execution_count": 1,
   "metadata": {},
   "outputs": [],
   "source": [
    "%matplotlib widget"
   ]
  },
  {
   "cell_type": "code",
   "execution_count": 2,
   "metadata": {},
   "outputs": [],
   "source": [
    "import ompy as om\n",
    "import numpy as np\n",
    "import matplotlib.pyplot as plt"
   ]
  },
  {
   "cell_type": "code",
   "execution_count": 3,
   "metadata": {},
   "outputs": [
    {
     "data": {
      "application/vnd.jupyter.widget-view+json": {
       "model_id": "d8b4823bdff54fe594ece5eb5c98281a",
       "version_major": 2,
       "version_minor": 0
      },
      "text/plain": [
       "Canvas(toolbar=Toolbar(toolitems=[('Home', 'Reset original view', 'home', 'home'), ('Back', 'Back to previous …"
      ]
     },
     "metadata": {},
     "output_type": "display_data"
    },
    {
     "data": {
      "text/plain": [
       "(<matplotlib.collections.QuadMesh at 0x7f16316d1d30>,\n",
       " <matplotlib.axes._subplots.AxesSubplot at 0x7f16316dce10>,\n",
       " <Figure size 640x480 with 2 Axes>)"
      ]
     },
     "execution_count": 3,
     "metadata": {},
     "output_type": "execute_result"
    }
   ],
   "source": [
    "raw = om.example_raw(\"dy164\")\n",
    "raw.cut(\"Eg\", 0, 8e3)\n",
    "raw.cut(\"Ex\", 0, 8e3)\n",
    "raw.remove_negative() # for simplicity\n",
    "raw.plot()"
   ]
  },
  {
   "cell_type": "code",
   "execution_count": 4,
   "metadata": {},
   "outputs": [],
   "source": [
    "mock_true = raw.copy()"
   ]
  },
  {
   "cell_type": "code",
   "execution_count": 5,
   "metadata": {},
   "outputs": [],
   "source": [
    "# fold with R from ompy\n",
    "folderpath = \"/home/fabiobz/Desktop/Masterthesis/misc/ompy/OCL_response_functions/oscar2017_scale1.15\"\n",
    "response = om.Response(folderpath)\n",
    "fwhm_abs=30 # (30/1330 = 2.25%) # Experimental relative FWHM at 1.33 MeV\n",
    "R_view, R_tab_view = response.interpolate(mock_true.Eg, fwhm_abs=fwhm_abs, return_table=True)\n",
    "                                     \n",
    "# create R for unfolding (Magne suggests fwhm_abs' = fwhm_abs/10)\n",
    "R_unf, R_tab_unf = response.interpolate(mock_true.Eg, fwhm_abs=fwhm_abs/10, return_table=True)"
   ]
  },
  {
   "cell_type": "code",
   "execution_count": 6,
   "metadata": {},
   "outputs": [
    {
     "data": {
      "application/vnd.jupyter.widget-view+json": {
       "model_id": "2085688da0d44a74b23461d18b9b35be",
       "version_major": 2,
       "version_minor": 0
      },
      "text/plain": [
       "Canvas(toolbar=Toolbar(toolitems=[('Home', 'Reset original view', 'home', 'home'), ('Back', 'Back to previous …"
      ]
     },
     "metadata": {},
     "output_type": "display_data"
    },
    {
     "data": {
      "application/vnd.jupyter.widget-view+json": {
       "model_id": "be69ae6ced334d65ab6056659b5e7f13",
       "version_major": 2,
       "version_minor": 0
      },
      "text/plain": [
       "Canvas(toolbar=Toolbar(toolitems=[('Home', 'Reset original view', 'home', 'home'), ('Back', 'Back to previous …"
      ]
     },
     "metadata": {},
     "output_type": "display_data"
    },
    {
     "data": {
      "text/plain": [
       "(<matplotlib.collections.QuadMesh at 0x7f16315eecf8>,\n",
       " <matplotlib.axes._subplots.AxesSubplot at 0x7f16310318d0>,\n",
       " <Figure size 640x480 with 2 Axes>)"
      ]
     },
     "execution_count": 6,
     "metadata": {},
     "output_type": "execute_result"
    }
   ],
   "source": [
    "# generate mock response, where the efficiency is not just 1 per row\n",
    "R_view.plot(scale=\"log\", vmin=1e-4, vmax=1e-1)\n",
    "efficiency_mock = np.linspace(0.05, 1, num=R_view.Eg.size)\n",
    "\n",
    "R_tab_view[\"eff_tot\"] = efficiency_mock\n",
    "\n",
    "R_view_effnorm = R_view.copy()\n",
    "R_view_effnorm.values *= efficiency_mock[:, np.newaxis]\n",
    "R_view_effnorm.plot(scale=\"log\", vmin=1e-4, vmax=1e-1)"
   ]
  },
  {
   "cell_type": "code",
   "execution_count": 7,
   "metadata": {},
   "outputs": [],
   "source": [
    "folded = mock_true.copy()\n",
    "folded.values = mock_true.values @ R_view.values\n",
    "folded_eff = mock_true.copy()\n",
    "folded_eff.values = mock_true.values @ R_view_effnorm.values"
   ]
  },
  {
   "cell_type": "code",
   "execution_count": 8,
   "metadata": {},
   "outputs": [],
   "source": [
    "def py_vector(mat, Emin, Emax):\n",
    "    py, E = mat.projection(\"Eg\", Emin=Emin, Emax=Emax)\n",
    "    vec = om.Vector(E=E, values=py)\n",
    "    return vec"
   ]
  },
  {
   "cell_type": "code",
   "execution_count": 9,
   "metadata": {},
   "outputs": [
    {
     "data": {
      "application/vnd.jupyter.widget-view+json": {
       "model_id": "2041b40a699747b18a87fc7dccf51a35",
       "version_major": 2,
       "version_minor": 0
      },
      "text/plain": [
       "Canvas(toolbar=Toolbar(toolitems=[('Home', 'Reset original view', 'home', 'home'), ('Back', 'Back to previous …"
      ]
     },
     "metadata": {},
     "output_type": "display_data"
    },
    {
     "data": {
      "text/plain": [
       "<matplotlib.legend.Legend at 0x7f1630c54e10>"
      ]
     },
     "execution_count": 9,
     "metadata": {},
     "output_type": "execute_result"
    }
   ],
   "source": [
    "fig, ax = plt.subplots()\n",
    "folded_py = py_vector(folded, Emin=7000, Emax=7000)\n",
    "folded_eff_py = py_vector(folded_eff, Emin=7000, Emax=7000)\n",
    "\n",
    "scaling = 5\n",
    "folded_py.plot(ax=ax, label=\"folded, Rnorm=1\")\n",
    "(folded_eff_py*scaling).plot(ax=ax, label=fr\"folded, Rnorm=eff, scaled ($\\times$ {scaling:.1f})\")\n",
    "ax.legend()\n",
    "\n",
    "# folded_ = mock_true.copy()\n",
    "# folded_.values = (mock_true.values/efficiency_mock) @ R_view_effnorm.values\n",
    "# py, E = folded_.projection(\"Eg\", Emin=7000, Emax=7000)\n",
    "# folded_ = om.Vector(E=E, values=py)\n",
    "# (folded_).plot(ax=ax, label=fr\"folded, Rnorm=eff, scaled ($\\times$ {scaling:.1f})\", alpha=0.1)"
   ]
  },
  {
   "cell_type": "markdown",
   "metadata": {},
   "source": [
    "- Note that the spectra have a different shape now(!), it's not just a scaling difference\n",
    "- The spectra were the same if one had used `(mock_true.values/efficiency) @ R_view_effnorm.values` -- you can uncomment the line to see the effect."
   ]
  },
  {
   "cell_type": "code",
   "execution_count": 10,
   "metadata": {},
   "outputs": [],
   "source": [
    "unfolder = om.Unfolder(response=R_unf)\n",
    "unfolder.response_tab =  R_tab_unf\n",
    "# unfolder.weight_fluctuation = 0.001\n",
    "# unfolder.FWHM_tweak_multiplier = {\"fe\": 1., \"se\": 1.1,\n",
    "#                                      \"de\": 1.3, \"511\": 0.9}\n",
    "# unfolder.remove_negatives = False\n",
    "unf = unfolder(folded)\n",
    "unf_eff = unfolder(folded_eff)"
   ]
  },
  {
   "cell_type": "code",
   "execution_count": 14,
   "metadata": {
    "scrolled": false
   },
   "outputs": [
    {
     "data": {
      "application/vnd.jupyter.widget-view+json": {
       "model_id": "56aab1df749540bcaabaaa56c512dbbd",
       "version_major": 2,
       "version_minor": 0
      },
      "text/plain": [
       "Canvas(toolbar=Toolbar(toolitems=[('Home', 'Reset original view', 'home', 'home'), ('Back', 'Back to previous …"
      ]
     },
     "metadata": {},
     "output_type": "display_data"
    },
    {
     "data": {
      "application/vnd.jupyter.widget-view+json": {
       "model_id": "76d99055eb524230b3ab930785da0c6f",
       "version_major": 2,
       "version_minor": 0
      },
      "text/plain": [
       "Canvas(toolbar=Toolbar(toolitems=[('Home', 'Reset original view', 'home', 'home'), ('Back', 'Back to previous …"
      ]
     },
     "metadata": {},
     "output_type": "display_data"
    },
    {
     "data": {
      "text/plain": [
       "Text(0, 0.5, 'difference in percent')"
      ]
     },
     "execution_count": 14,
     "metadata": {},
     "output_type": "execute_result"
    }
   ],
   "source": [
    "fig, ax = plt.subplots()\n",
    "unf_py = py_vector(unf, Emin=7000, Emax=7000)\n",
    "unf_eff_py = py_vector(unf_eff, Emin=7000, Emax=7000)\n",
    "\n",
    "\n",
    "scaling = 2\n",
    "unf_py.plot(ax=ax, markersize=0, label=\"unfolded, Rnorm=1\")\n",
    "(unf_eff_py*scaling).plot(ax=ax, markersize=0,\n",
    "                          label=fr\"unfolded, Rnorm=eff for folding, scaled ($\\times$ {scaling:.1f})\")\n",
    "\n",
    "mock_true_py = py_vector(mock_true, Emin=7000, Emax=7000)\n",
    "mock_true_py.plot(ax=ax, label=\"mock_true, Rnorm=1\", markersize=0)\n",
    "\n",
    "ax.legend()\n",
    "\n",
    "# pøot alspo the differences\n",
    "fig, ax = plt.subplots()\n",
    "diff = (unf_py-mock_true_py)/mock_true_py*100\n",
    "diff.plot(ax=ax, markersize=0, label=\"(unf_py-mock_true_py)/mock_true_py\")\n",
    "\n",
    "diff = (unf_eff_py*scaling-mock_true_py)/mock_true_py*100\n",
    "diff.plot(ax=ax, markersize=0, label=\"(unf_eff_py*scaling-mock_true_py)/mock_true_py\")\n",
    "ax.legend()\n",
    "ax.axhline(0, ls=\"--\")\n",
    "ax.set_ylim(-50, 50)\n",
    "ax.set_ylabel(\"difference in percent\")"
   ]
  },
  {
   "cell_type": "markdown",
   "metadata": {},
   "source": [
    "Obvious differences between the \"true\" spectrum, and the unfolded spectrum:\n",
    "\n",
    "- Even if the same response is used, there is a constant scaling factor for high energies(10%), and variable difference below ~2 MeV.\n",
    "- If one uses the folded spectrum that is folded with the mock efficiency things get even much worse\n",
    "- Note that the mock efficiency is chosen to be \"worse\" (more extreme differences) than what we have for our setup."
   ]
  }
 ],
 "metadata": {
  "kernelspec": {
   "display_name": "Python 3",
   "language": "python",
   "name": "python3"
  },
  "language_info": {
   "codemirror_mode": {
    "name": "ipython",
    "version": 3
   },
   "file_extension": ".py",
   "mimetype": "text/x-python",
   "name": "python",
   "nbconvert_exporter": "python",
   "pygments_lexer": "ipython3",
   "version": "3.7.3"
  }
 },
 "nbformat": 4,
 "nbformat_minor": 4
}
